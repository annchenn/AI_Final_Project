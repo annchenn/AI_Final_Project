{
 "cells": [
  {
   "cell_type": "code",
   "execution_count": null,
   "id": "df1ce6b8",
   "metadata": {},
   "outputs": [],
   "source": [
    "! pip install scikit-learn nltk rouge-score bert-score"
   ]
  },
  {
   "cell_type": "code",
   "execution_count": 24,
   "id": "9e6febd3",
   "metadata": {},
   "outputs": [
    {
     "name": "stdout",
     "output_type": "stream",
     "text": [
      "{1: {'id': 1, 'fake_id': 100, 'cuisine_img_url': 'https://icook.tw/recipes/455986', 'cuisine_name': '滷肉飯', 'ingredients': [{'ingredient': '五花肉', 'amount': '2000', 'unit': '克'}, {'ingredient': '洋蔥', 'amount': '2', 'unit': '顆'}, {'ingredient': '紅蔥頭末', 'amount': '50', 'unit': '克'}, {'ingredient': '蒜末', 'amount': '50', 'unit': '克'}, {'ingredient': '五香粉', 'amount': '1', 'unit': '小匙'}, {'ingredient': '醬油', 'amount': '1', 'unit': '杯'}, {'ingredient': '油膏', 'amount': '0.5', 'unit': '杯'}, {'ingredient': '紹興酒', 'amount': '4', 'unit': '大匙'}, {'ingredient': '冰糖', 'amount': '50', 'unit': '克'}], 'cooking_instructions': '小黃瓜洗淨後，去除頭尾，然後以菜刀拍碎; 將拍碎的小黃瓜切小段; 加入細砂糖拌勻，去菁15分鐘; 辣椒清洗後切成辣椒圈; 蒜頭清洗後切成蒜末; 用手將小黃瓜多餘的水份擠出，然後倒掉; 加入辣椒圈和蒜末; 加入醬油; 加入烏醋; 加入鹽; 淋上加熱後的植物油(淋熱油); 將所有食材拌勻即可食用; 於冰箱醃漬2小時以上會更入味更好吃; '}, 2: {'id': 2, 'fake_id': 200, 'cuisine_img_url': 'https://icook.tw/recipes/455986', 'cuisine_name': '滷肉飯', 'ingredients': [{'ingredient': '五花肉', 'amount': '2000', 'unit': '克'}, {'ingredient': '洋蔥', 'amount': '2', 'unit': '顆'}, {'ingredient': '紅蔥頭末', 'amount': '50', 'unit': '克'}, {'ingredient': '蒜末', 'amount': '50', 'unit': '克'}, {'ingredient': '五香粉', 'amount': '1', 'unit': '小匙'}, {'ingredient': '醬油', 'amount': '1', 'unit': '杯'}, {'ingredient': '油膏', 'amount': '0.5', 'unit': '杯'}, {'ingredient': '紹興酒', 'amount': '4', 'unit': '大匙'}, {'ingredient': '冰糖', 'amount': '50', 'unit': '克'}], 'cooking_instructions': '小黃瓜洗淨後，去除頭尾，然後以菜刀拍碎; 將拍碎的小黃瓜切小段; 加入細砂糖拌勻，去菁15分鐘; 辣椒清洗後切成辣椒圈; 蒜頭清洗後切成蒜末; 用手將小黃瓜多餘的水份擠出，然後倒掉; 加入辣椒圈和蒜末; 加入醬油; 加入烏醋; 加入鹽; 淋上加熱後的植物油(淋熱油); 將所有食材拌勻即可食用; 於冰箱醃漬2小時以上會更入味更好吃; '}}\n",
      "instruction metrics:\n",
      "\n"
     ]
    },
    {
     "data": {
      "application/vnd.jupyter.widget-view+json": {
       "model_id": "54e0fe4597e2497e884efab6d69233b0",
       "version_major": 2,
       "version_minor": 0
      },
      "text/plain": [
       "tokenizer_config.json:   0%|          | 0.00/49.0 [00:00<?, ?B/s]"
      ]
     },
     "metadata": {},
     "output_type": "display_data"
    },
    {
     "data": {
      "application/vnd.jupyter.widget-view+json": {
       "model_id": "c8e0d7a0249248008d6efa28f481e0cf",
       "version_major": 2,
       "version_minor": 0
      },
      "text/plain": [
       "config.json:   0%|          | 0.00/624 [00:00<?, ?B/s]"
      ]
     },
     "metadata": {},
     "output_type": "display_data"
    },
    {
     "data": {
      "application/vnd.jupyter.widget-view+json": {
       "model_id": "88e584c384504f73a3fb51ece5e6083c",
       "version_major": 2,
       "version_minor": 0
      },
      "text/plain": [
       "vocab.txt:   0%|          | 0.00/110k [00:00<?, ?B/s]"
      ]
     },
     "metadata": {},
     "output_type": "display_data"
    },
    {
     "data": {
      "application/vnd.jupyter.widget-view+json": {
       "model_id": "8de2d56120bb41a8b9f41d97bba9a7a0",
       "version_major": 2,
       "version_minor": 0
      },
      "text/plain": [
       "tokenizer.json:   0%|          | 0.00/269k [00:00<?, ?B/s]"
      ]
     },
     "metadata": {},
     "output_type": "display_data"
    },
    {
     "name": "stderr",
     "output_type": "stream",
     "text": [
      "Xet Storage is enabled for this repo, but the 'hf_xet' package is not installed. Falling back to regular HTTP download. For better performance, install the package with: `pip install huggingface_hub[hf_xet]` or `pip install hf_xet`\n",
      "WARNING:huggingface_hub.file_download:Xet Storage is enabled for this repo, but the 'hf_xet' package is not installed. Falling back to regular HTTP download. For better performance, install the package with: `pip install huggingface_hub[hf_xet]` or `pip install hf_xet`\n"
     ]
    },
    {
     "data": {
      "application/vnd.jupyter.widget-view+json": {
       "model_id": "29538be8cf9644f2ba99c35a14c87922",
       "version_major": 2,
       "version_minor": 0
      },
      "text/plain": [
       "model.safetensors:   0%|          | 0.00/412M [00:00<?, ?B/s]"
      ]
     },
     "metadata": {},
     "output_type": "display_data"
    },
    {
     "name": "stdout",
     "output_type": "stream",
     "text": [
      "BLEU: 1.0000, ROUGE-L: 1.0000, BERTScore(F1): 1.0000\n"
     ]
    }
   ],
   "source": [
    "import json\n",
    "import numpy as np\n",
    "from sklearn.metrics import precision_score, recall_score, f1_score\n",
    "from sklearn.preprocessing import MultiLabelBinarizer\n",
    "from sklearn.metrics import jaccard_score\n",
    "from nltk.translate.bleu_score import sentence_bleu, SmoothingFunction\n",
    "from rouge_score import rouge_scorer\n",
    "from bert_score import score as bert_score\n",
    "\n",
    "# Load data\n",
    "def load_json(file_path):\n",
    "    with open(file_path, 'r', encoding='utf-8') as f:\n",
    "        return {item['id']: item for item in json.load(f)}  #回傳一個dictionary，key是id，內容是料理的dictionary\n",
    "\n",
    "# 1. 食材評估：F1-score、Jaccard (IOU)\n",
    "def evaluate_ingredients(gt_data, pred_data):\n",
    "    ids = list(gt_data.keys())\n",
    "    all_gt = [gt_data[i]['ingredients'] for i in ids]\n",
    "    all_pred = [pred_data[i]['ingredients'] for i in ids]\n",
    "\n",
    "    mlb = MultiLabelBinarizer()\n",
    "    all_labels = all_gt + all_pred\n",
    "    mlb.fit(all_labels)\n",
    "\n",
    "    y_true = mlb.transform(all_gt)\n",
    "    y_pred = mlb.transform(all_pred)\n",
    "\n",
    "    precision = precision_score(y_true, y_pred, average='micro')\n",
    "    recall = recall_score(y_true, y_pred, average='micro')\n",
    "    f1 = f1_score(y_true, y_pred, average='micro')\n",
    "    jaccard = jaccard_score(y_true, y_pred, average='samples')\n",
    "\n",
    "    return precision, recall, f1, jaccard\n",
    "\n",
    "# 2. 步驟評估：BLEU、ROUGE、BERTScore\n",
    "def evaluate_steps(gt_data, pred_data):\n",
    "    bleu_scores = []\n",
    "    rouge_l_scores = []\n",
    "\n",
    "    gt_texts = []\n",
    "    pred_texts = []\n",
    "\n",
    "    smoothie = SmoothingFunction().method4\n",
    "    scorer = rouge_scorer.RougeScorer(['rougeL'], use_stemmer=True)\n",
    "\n",
    "    for i in gt_data:\n",
    "        reference = gt_data[i]['cooking_instructions']\n",
    "        hypothesis = pred_data[i]['cooking_instructions']\n",
    "\n",
    "        bleu = sentence_bleu([reference], hypothesis, smoothing_function=smoothie)\n",
    "        rouge_l = scorer.score(reference, hypothesis)['rougeL'].fmeasure\n",
    "\n",
    "        bleu_scores.append(bleu)\n",
    "        rouge_l_scores.append(rouge_l)\n",
    "        gt_texts.append(reference)\n",
    "        pred_texts.append(hypothesis)\n",
    "\n",
    "    # BERTScore（中文模型）\n",
    "    P, R, F1 = bert_score(pred_texts, gt_texts, lang=\"zh\", verbose=False)\n",
    "\n",
    "    return np.mean(bleu_scores), np.mean(rouge_l_scores), float(F1.mean())\n",
    "\n",
    "\n",
    "gt_file = 'ground_truth.json'\n",
    "pred_file = 'model_ouput.json'\n",
    "gt_data = load_json(gt_file)\n",
    "pred_data = load_json(pred_file)\n",
    "print(gt_data)\n",
    "\n",
    "# print(\"📌 食材辨識評估\")\n",
    "# precision, recall, f1, jaccard = evaluate_ingredients(gt_data, pred_data)\n",
    "# print(f\"Precision: {precision:.4f}, Recall: {recall:.4f}, F1: {f1:.4f}, Jaccard: {jaccard:.4f}\")\n",
    "\n",
    "print(\"instruction metrics:\\n\")\n",
    "bleu, rouge_l, bert = evaluate_steps(gt_data, pred_data)\n",
    "print(f\"BLEU: {bleu:.4f}, ROUGE-L: {rouge_l:.4f}, BERTScore(F1): {bert:.4f}\")\n",
    "\n",
    "\n"
   ]
  }
 ],
 "metadata": {
  "kernelspec": {
   "display_name": "Python 3",
   "language": "python",
   "name": "python3"
  },
  "language_info": {
   "codemirror_mode": {
    "name": "ipython",
    "version": 3
   },
   "file_extension": ".py",
   "mimetype": "text/x-python",
   "name": "python",
   "nbconvert_exporter": "python",
   "pygments_lexer": "ipython3",
   "version": "3.10.12"
  }
 },
 "nbformat": 4,
 "nbformat_minor": 5
}
